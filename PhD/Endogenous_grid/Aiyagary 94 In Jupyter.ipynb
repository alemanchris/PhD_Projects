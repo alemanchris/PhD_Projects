{
 "cells": [
  {
   "cell_type": "code",
   "execution_count": 2,
   "metadata": {},
   "outputs": [],
   "source": [
    "using Plots, Interpolations, LinearAlgebra, Parameters\n"
   ]
  },
  {
   "cell_type": "code",
   "execution_count": 3,
   "metadata": {},
   "outputs": [
    {
     "data": {
      "text/plain": [
       "#3 (generic function with 2 methods)"
      ]
     },
     "execution_count": 3,
     "metadata": {},
     "output_type": "execute_result"
    }
   ],
   "source": [
    "param = @with_kw (\n",
    "        beta  = 0.96, # Discount Factor\n",
    "        gamma = 2.0,  # Risk Aversion (inverse)\n",
    "        alpha1 = 1/3,  # Capital Share\n",
    "        delta = 0.08, # Depreciation Rate\n",
    "        r = 0.036,\n",
    "        w = 0.1,       # Wage\n",
    "\n",
    "        # GRID Parameters\n",
    "\n",
    "        na = 100, # more unknowns\n",
    "        amax = 10,\n",
    "        #a_temp = log.(range(exp(0.0), na, length=na)),\n",
    "        a_temp = log.(range(exp(0.0), na, length=na)),\n",
    "        agrid = (cumsum(a_temp)/sum(a_temp) * amax), # Asset Grid\n",
    "        a_finer_temp  = log.(range(exp(0.0), 3*na, length=3*na)),\n",
    "        agrid_finer   = (cumsum(a_finer_temp)/sum(a_finer_temp) * amax),\n",
    "        b = agrid[1],\n",
    "\n",
    "        # Iteration options\n",
    "        dist_tol = 1e-5,\n",
    "        maxit = 1000,\n",
    "        #lb = beta+2, # Lower bound\n",
    "        lb = 0.037, # Lower bound\n",
    "        ub = 1.0/beta-1.0-0.0001)"
   ]
  },
  {
   "cell_type": "code",
   "execution_count": 4,
   "metadata": {},
   "outputs": [
    {
     "data": {
      "text/plain": [
       "rouwenhorst (generic function with 1 method)"
      ]
     },
     "execution_count": 4,
     "metadata": {},
     "output_type": "execute_result"
    }
   ],
   "source": [
    "function rouwenhorst(;\n",
    "                    rho = 0.9,\n",
    "                    p = (1.0+0.9)/2, #p = (1.0+rho)/2,\n",
    "                    q = p,\n",
    "                    sigma_e = 0.1, # Dont know\n",
    "                    sigma_y = sqrt((sigma_e^2)/(1-rho^2)),\n",
    "                    ny = 4, # NUmber of states\n",
    "                    my = 0) # Who knows) # Number of states\n",
    "\n",
    "        phy = sigma_y*sqrt(ny-1)\n",
    "        ymax = phy\n",
    "        ymin = -phy\n",
    "        ygrid = range(ymin, ymax, length=ny)\n",
    "\n",
    "        Piy2 = [[p 1.0-p];[1.0-q q]]\n",
    "        Piyn1 = copy(Piy2)\n",
    "\n",
    "        for jj = 1:(ny-2)\n",
    "            num_rows = size(Piyn1,1)\n",
    "            mat1     = zeros(num_rows+1, num_rows+1)\n",
    "            mat2, mat3, mat4 = copy(mat1), copy(mat1), copy(mat1)\n",
    "\n",
    "            mat1[1:end-1, 1:end-1]  = Piyn1\n",
    "            mat2[1:end-1, 2:end]    = Piyn1\n",
    "            mat3[2:end, 1:end-1]    = Piyn1\n",
    "            mat4[2:end, 2:end]      = Piyn1\n",
    "\n",
    "            Piyn1 = p*mat1 + (1-p)*mat2 + (1-q)*mat3 + q*mat4\n",
    "            Piyn1[2:end-1, :] = Piyn1[2:end-1, :] / 2\n",
    "        end\n",
    "        Piy     = copy(Piyn1)\n",
    "        Piy_aux = copy(Piy')\n",
    "        vals = eigvals(Piy_aux)\n",
    "        vecs = eigvecs(Piy_aux)\n",
    "        todelete, ind_val  = findmin(abs.(vals.-1.0))\n",
    "        Pyinv       = vecs[:, ind_val]/sum(vecs[:, ind_val])\n",
    "\n",
    "        sum(Pyinv.>=0.0) == ny || throw(error(\"Negative elements in invariant distribution\"))\n",
    "        egrid   = exp.(ygrid + my*ones(ny))\n",
    "        return (Pyinv=Pyinv, Piy=Piy ,egrid=egrid ,ny=ny, ygrid=ygrid)\n",
    "        #return Pyinv\n",
    "           # Persistence of the income process\n",
    "end\n"
   ]
  },
  {
   "cell_type": "code",
   "execution_count": 5,
   "metadata": {},
   "outputs": [
    {
     "data": {
      "text/plain": [
       "compute_aiyagari (generic function with 1 method)"
      ]
     },
     "execution_count": 5,
     "metadata": {},
     "output_type": "execute_result"
    }
   ],
   "source": [
    "function compute_aiyagari(mcm;)\n",
    "    @unpack beta, delta, na, agrid, agrid_finer, gamma, alpha1 = mcm\n",
    "    @unpack r, w, maxit, dist_tol, b = mcm\n",
    "    #@unpack beta, delta, na, agrid, agrid_finer, gamma, alpha1 = param()\n",
    "    #@unpack r, w, maxit, dist_tol, b = param()\n",
    "    @unpack Pyinv, Piy, egrid, ny, ygrid = rouwenhorst()\n",
    "    H = dot(egrid, Pyinv)\n",
    "    #K = 0.0\n",
    "    income_grid = egrid*w\n",
    "\n",
    "    snodes      = [repeat(agrid_finer, ny) kron(ygrid, agrid_finer)]\n",
    "    num_nodes   = size(snodes, 1)\n",
    "\n",
    "    ### Utility Function and F.O.C. ###\n",
    "    uprime(c) = c.^(-gamma)\n",
    "    upinv(vv) = vv.^(-1.0/gamma)\n",
    "\n",
    "    ### Production Function and F.O.C. ###\n",
    "    prod_fun(K) = K^alpha1*H^(1.0-alpha1)                               # computes output\n",
    "    mpk_fun(K)  = (alpha1*K^(alpha1-1.0)*H^(1.0-alpha1))                 # computes r\n",
    "    mpl_fun(K)  = (1.0-alpha1)*K^alpha1*H^-alpha1                        # computes w\n",
    "    inv_mpk(rate1) = H^(1.0-alpha1)*(alpha1/(rate1+delta))^(1.0/(1.0-alpha1))  # computes k\n",
    "\n",
    "    # Initial Values\n",
    "    r0_fixed = -0.1*delta + 0.9*(1.0/beta - 1.0)\n",
    "    KK0   = inv_mpk(r0_fixed)\n",
    "    ww0   = mpl_fun(KK0)\n",
    "    income0 = egrid*ww0\n",
    "\n",
    "    # Initialize consumption policy function\n",
    "    cpol_mat = zeros(na, ny)\n",
    "    for (i_z, z_v) in enumerate(income0)\n",
    "        for (i_a, a_v) in enumerate(agrid)\n",
    "            c_max = (1.0 + r0_fixed)*a_v + ww0*z_v-0.05\n",
    "            cpol_mat[i_a, i_z] = c_max\n",
    "        end\n",
    "    end\n",
    "    cpol_next = Array{Float64}(undef, na, ny)\n",
    "    a_ast_mat = repeat(agrid, 1, ny)\n",
    "    R = 1.0+r\n",
    "    iter = 0\n",
    "    dist = 10.0\n",
    "    a_ast = Array{Float64}(undef, na, ny)\n",
    "    while iter < maxit && dist > dist_tol\n",
    "        iter +=1\n",
    "        #old_pol = copy(cpol_mat)\n",
    "\n",
    "        B = (beta * R * Piy * uprime(cpol_mat'))' # RHS of the Bellman Equation\n",
    "        ctil  = upinv(B) # Solve for the ctil policy\n",
    "        # Compute the endoegenous grid. Save it for piecewise linear approximation of the invariant distribution\n",
    "        a_ast=(repeat(agrid, 1, ny) + ctil - repeat(income_grid', na, 1))/R # value of assets today that induces aprime tomorrow\n",
    "\n",
    "        for (i_z, z_v) in enumerate(income_grid)\n",
    "           for (i_a, a_v) in enumerate(agrid)\n",
    "                if a_v<= a_ast[1, i_z] # case where you are constrained\n",
    "                  cpol_next[i_a, i_z] = R*a_v + b + z_v\n",
    "                elseif  a_v >= a_ast[end, i_z] # out of the range (to the right), linearly extrapolate\n",
    "                  cpol_next[i_a,i_z] = ctil[end, i_z] + (a_v-a_ast[end, i_z])*(ctil[end, i_z] - ctil[end-1, i_z])/(a_ast[end, i_z]-a_ast[end-1, i_z])\n",
    "                else # inside the range, linearly interpolate\n",
    "                  ind1 = searchsortedfirst(a_ast[:,i_z], a_v)\n",
    "                  ind  = ind1-1\n",
    "                  cpol_next[i_a, i_z] = ctil[ind, i_z] + (a_v-a_ast[ind, i_z])*(ctil[ind1, i_z] - ctil[ind, i_z])/(a_ast[ind1, i_z]-a_ast[ind, i_z])\n",
    "                end\n",
    "           end\n",
    "        end\n",
    "        #dist = maximum(abs.(old_pol - cpol_mat))\n",
    "        dist = norm(cpol_next - cpol_mat)\n",
    "        cpol_mat .= cpol_next\n",
    "    end\n",
    "#=\n",
    "    # Plots\n",
    "\n",
    "    ap_egm = (1.0+ay.r) * repeat(ay.agrid, 1, ay.ny) + ay.w*repeat(ay.ϵgrid', ay.na, 1) - ay.cpol_mat\n",
    "    fig, axis = subplots(1, 2)\n",
    "    ax = axis[1]; ax[:plot](ay.agrid, ap_egm);      ax[:set_title](\"Assets Policy at Equilibrium\")\n",
    "    ax = axis[2]; ax[:plot](ay.agrid, ay.cpol_mat); ax[:set_title](\"Consumption Policy at Equilibrium\")\n",
    "    =#\n",
    "\n",
    "    return (cpol_mat=cpol_mat, a_ast=a_ast)\n",
    "    #return w\n",
    "end"
   ]
  },
  {
   "cell_type": "code",
   "execution_count": 7,
   "metadata": {},
   "outputs": [
    {
     "data": {
      "text/plain": [
       "(cpol_mat = [0.0672092 0.0874123 0.102058 0.114835; 0.0739127 0.0900999 0.103502 0.115885; … ; 0.481387 0.487899 0.495512 0.504462; 0.486297 0.49281 0.500423 0.509373], a_ast = [0.00220199 -0.000203498 -0.0126953 -0.0347046; 0.0268345 0.0210892 0.00729102 -0.0151957; … ; 9.93229 9.91838 9.89937 9.87362; 10.0593 10.0453 10.0263 10.0006])"
      ]
     },
     "execution_count": 7,
     "metadata": {},
     "output_type": "execute_result"
    }
   ],
   "source": [
    "compute_aiyagari(param())"
   ]
  },
  {
   "cell_type": "code",
   "execution_count": 8,
   "metadata": {},
   "outputs": [
    {
     "ename": "UndefVarError",
     "evalue": "UndefVarError: a_ast not defined",
     "output_type": "error",
     "traceback": [
      "UndefVarError: a_ast not defined",
      "",
      "Stacktrace:",
      " [1] top-level scope at In[8]:1"
     ]
    }
   ],
   "source": [
    "plot(a_ast)"
   ]
  },
  {
   "cell_type": "code",
   "execution_count": 9,
   "metadata": {},
   "outputs": [
    {
     "ename": "UndefVarError",
     "evalue": "UndefVarError: cpol_mat not defined",
     "output_type": "error",
     "traceback": [
      "UndefVarError: cpol_mat not defined",
      "",
      "Stacktrace:",
      " [1] top-level scope at In[9]:1"
     ]
    }
   ],
   "source": [
    "plot(cpol_mat)"
   ]
  },
  {
   "cell_type": "code",
   "execution_count": null,
   "metadata": {},
   "outputs": [],
   "source": []
  }
 ],
 "metadata": {
  "kernelspec": {
   "display_name": "Julia 1.0.2",
   "language": "julia",
   "name": "julia-1.0"
  },
  "language_info": {
   "file_extension": ".jl",
   "mimetype": "application/julia",
   "name": "julia",
   "version": "1.0.2"
  }
 },
 "nbformat": 4,
 "nbformat_minor": 2
}
